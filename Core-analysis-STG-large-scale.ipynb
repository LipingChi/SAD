{
 "cells": [
  {
   "cell_type": "code",
   "execution_count": 1,
   "metadata": {},
   "outputs": [
    {
     "name": "stdout",
     "output_type": "stream",
     "text": [
      "Populating the interactive namespace from numpy and matplotlib\n"
     ]
    }
   ],
   "source": [
    "%pylab inline\n",
    "import numpy as np\n",
    "import pandas as pd\n",
    "import os, sys\n",
    "import random\n",
    "import networkx as nx\n",
    "import matplotlib.pyplot as plt"
   ]
  },
  {
   "cell_type": "code",
   "execution_count": 2,
   "metadata": {},
   "outputs": [],
   "source": [
    "import SAD as sad\n",
    "\n",
    "def log_progress(sequence, every=None, size=None, name='Items'):\n",
    "    from ipywidgets import IntProgress, HTML, VBox\n",
    "    from IPython.display import display\n",
    "\n",
    "    is_iterator = False\n",
    "    if size is None:\n",
    "        try:\n",
    "            size = len(sequence)\n",
    "        except TypeError:\n",
    "            is_iterator = True\n",
    "    if size is not None:\n",
    "        if every is None:\n",
    "            if size <= 200:\n",
    "                every = 1\n",
    "            else:\n",
    "                every = int(size / 200)     # every 0.5%\n",
    "    else:\n",
    "        assert every is not None, 'sequence is iterator, set every'\n",
    "\n",
    "    if is_iterator:\n",
    "        progress = IntProgress(min=0, max=1, value=1)\n",
    "        progress.bar_style = 'info'\n",
    "    else:\n",
    "        progress = IntProgress(min=0, max=size, value=0)\n",
    "    label = HTML()\n",
    "    box = VBox(children=[label, progress])\n",
    "    display(box)\n",
    "\n",
    "    index = 0\n",
    "    try:\n",
    "        for index, record in enumerate(sequence, 1):\n",
    "            if index == 1 or index % every == 0:\n",
    "                if is_iterator:\n",
    "                    label.value = '{name}: {index} / ?'.format(\n",
    "                        name=name,\n",
    "                        index=index\n",
    "                    )\n",
    "                else:\n",
    "                    progress.value = index\n",
    "                    label.value = u'{name}: {index} / {size}'.format(\n",
    "                        name=name,\n",
    "                        index=index,\n",
    "                        size=size\n",
    "                    )\n",
    "            yield record\n",
    "    except:\n",
    "        progress.bar_style = 'danger'\n",
    "        raise\n",
    "    else:\n",
    "        progress.bar_style = 'success'\n",
    "        progress.value = index\n",
    "        label.value = \"{name}: {index}\".format(\n",
    "            name=name,\n",
    "            index=str(index or '?')\n",
    "        )"
   ]
  },
  {
   "cell_type": "code",
   "execution_count": 3,
   "metadata": {},
   "outputs": [
    {
     "name": "stdout",
     "output_type": "stream",
     "text": [
      "(mu, var) 0.017389971190909605 0.0006114559616211559\n"
     ]
    },
    {
     "data": {
      "image/png": "[encoded data removed]",
      "text/plain": [
       "<matplotlib.figure.Figure at 0x10acff250>"
      ]
     },
     "metadata": {},
     "output_type": "display_data"
    }
   ],
   "source": [
    "N = 10000\n",
    "# produce activities \n",
    "from scipy.stats import norm,pareto\n",
    "b = 2.1\n",
    "dist = pareto(b).rvs(100000)\n",
    "dist = np.random.choice(dist,N)\n",
    "act = dict(zip(range(N),dist/(2.0*np.max(dist))))\n",
    "plt.hist(act.values(),100)\n",
    "mu, v  = np.mean(act.values()), np.mean(np.array(act.values())**2)\n",
    "print '(mu, var)', mu, v"
   ]
  },
  {
   "cell_type": "markdown",
   "metadata": {},
   "source": [
    "# Memoryless graph"
   ]
  },
  {
   "cell_type": "code",
   "execution_count": null,
   "metadata": {},
   "outputs": [
    {
     "name": "stdout",
     "output_type": "stream",
     "text": [
      "instant average degree ~ 0.17389971190909603\n",
      "final average degree ~ 521.6991357272882\n"
     ]
    }
   ],
   "source": [
    "T = 3000\n",
    "Tagg = 499;\n",
    "k = 5\n",
    "print 'instant average degree ~', mu * k*(k-1)/2\n",
    "print 'final average degree ~', T * mu * k*(k-1)/2"
   ]
  },
  {
   "cell_type": "code",
   "execution_count": null,
   "metadata": {},
   "outputs": [
    {
     "data": {
      "application/vnd.jupyter.widget-view+json": {
       "model_id": "948cba5850d94ae08c848f8c0760a391",
       "version_major": 2,
       "version_minor": 0
      },
      "text/html": [
       "<p>Failed to display Jupyter Widget of type <code>VBox</code>.</p>\n",
       "<p>\n",
       "  If you're reading this message in the Jupyter Notebook or JupyterLab Notebook, it may mean\n",
       "  that the widgets JavaScript is still loading. If this message persists, it\n",
       "  likely means that the widgets JavaScript library is either not installed or\n",
       "  not enabled. See the <a href=\"https://ipywidgets.readthedocs.io/en/stable/user_install.html\">Jupyter\n",
       "  Widgets Documentation</a> for setup instructions.\n",
       "</p>\n",
       "<p>\n",
       "  If you're reading this message in another frontend (for example, a static\n",
       "  rendering on GitHub or <a href=\"https://nbviewer.jupyter.org/\">NBViewer</a>),\n",
       "  it may mean that your frontend doesn't currently support widgets.\n",
       "</p>\n"
      ],
      "text/plain": [
       "VBox(children=(HTML(value=u''), IntProgress(value=0, max=5)))"
      ]
     },
     "metadata": {},
     "output_type": "display_data"
    },
    {
     "name": "stdout",
     "output_type": "stream",
     "text": [
      "0.0 5\n",
      "0.125 5\n",
      "0.25 5\n"
     ]
    }
   ],
   "source": [
    "STG = {}\n",
    "VTG = {}\n",
    "\n",
    "sigmas = np.linspace(0,0.5,5);\n",
    "for sigma in log_progress(sigmas):\n",
    "    VTG[sigma],fh = sad.temporal_graph_creation(N,T,[k,k*sigma],act,mode='simplicial',returnhist=True);\n",
    "    tot = []\n",
    "    for t in fh:\n",
    "        tot.extend(map(len,fh[t]))\n",
    "    krenorm = int(round(sad.invert_k(np.mean(map(lambda x: x*(x-1)/2, tot)))))\n",
    "    print sigma, krenorm\n",
    "    STG[sigma] = sad.temporal_graph_creation(N,T,krenorm,act,mode='network')\n"
   ]
  },
  {
   "cell_type": "code",
   "execution_count": null,
   "metadata": {},
   "outputs": [],
   "source": [
    "STGa = {}\n",
    "VTGa = {}\n",
    "\n",
    "for sigma in sigmas:\n",
    "    VTGa[sigma] = sad.aggregate_graph(VTG,Tagg)\n",
    "    STGa[sigma] = sad.aggregate_graph(STG,Tagg)"
   ]
  },
  {
   "cell_type": "code",
   "execution_count": null,
   "metadata": {},
   "outputs": [],
   "source": [
    "pl = 4 \n",
    "for sigma in sigmas:\n",
    "    fig = plt.figure(figsize=(16,4))\n",
    "    plt.subplot(1,pl,1)\n",
    "    aa, bb = np.histogram(STGa[sigma].degree().values(), 30)\n",
    "    plt.plot(bb[:-1],aa,'o-',label='STGa[sigma]')\n",
    "    aa, bb = np.histogram(VTGa[sigma].degree().values(), 30)\n",
    "    plt.plot(bb[:-1],aa,'o-',label='VTGa')\n",
    "    plt.legend(loc=0)\n",
    "#    plt.xscale('log')\n",
    "    plt.yscale('log') \n",
    "    plt.title('Degree')\n",
    "\n",
    "    plt.subplot(1,pl,2)\n",
    "    aa, bb = np.histogram(nx.get_edge_attributes(STGa[sigma],'weight').values(), 30)\n",
    "    plt.plot(bb[:-1],aa,'o-')\n",
    "    aa, bb = np.histogram(nx.get_edge_attributes(VTGa[sigma],'weight').values(), 30)\n",
    "    plt.plot(bb[:-1],aa,'o-')\n",
    "#    plt.xscale('log')\n",
    "    plt.yscale('log') \n",
    "    plt.title('Strength')\n",
    "\n",
    "    plt.subplot(1,pl,3)\n",
    "    aa, bb = np.histogram(nx.clustering(STGa[sigma]).values(), 30)\n",
    "    plt.plot(bb[:-1],aa,'o-')\n",
    "    aa, bb = np.histogram(nx.clustering(VTGa[sigma]).values(), 30)\n",
    "    plt.plot(bb[:-1],aa,'o-')\n",
    "    plt.xscale('log')\n",
    "    plt.yscale('log') \n",
    "    plt.title('Clustering')\n",
    "    plt.xlim(0,1)\n",
    "\n",
    "    plt.subplot(1,pl,4)\n",
    "    coreness, layerness = sad.onion_decomposition(STGa[sigma])\n",
    "    aa, bb = np.histogram(layerness.values(), range(50), normed=True)\n",
    "    plt.plot(bb[:-1],aa,'o-')\n",
    "    coreness, layerness = sad.onion_decomposition(VTGa[sigma])\n",
    "    aa, bb = np.histogram(layerness.values(), range(50), normed=True)\n",
    "    plt.plot(bb[:-1],aa,'o-')\n",
    "    plt.title('Layer number')\n",
    "\n",
    "    plt.tight_layout()"
   ]
  },
  {
   "cell_type": "code",
   "execution_count": null,
   "metadata": {},
   "outputs": [],
   "source": [
    "x = nx.clustering(VTGa[sigmas[-1]]).values()\n",
    "y = nx.clustering(STGa[sigmas[-1]]).values()\n",
    "z = act.values()[:N]\n",
    "M = np.max([np.max(x), np.max(y)])\n",
    "\n",
    "fig = plt.figure(figsize=(12,8))\n",
    "plt.scatter(x,y,c=z,alpha=0.4)\n",
    "plt.colorbar()\n",
    "plt.plot(np.linspace(0,M,10),np.linspace(0,M,10),'--k')\n",
    "plt.ylabel('Clustering STG',fontsize=30)\n",
    "plt.xlabel('Clustering NTG', fontsize=30)\n"
   ]
  },
  {
   "cell_type": "markdown",
   "metadata": {},
   "source": [
    "# Memory graph "
   ]
  },
  {
   "cell_type": "code",
   "execution_count": null,
   "metadata": {},
   "outputs": [],
   "source": [
    "import imp\n",
    "imp.reload(sad)"
   ]
  },
  {
   "cell_type": "code",
   "execution_count": null,
   "metadata": {},
   "outputs": [],
   "source": [
    "def invert_k(M):\n",
    "    return (1.0 + np.sqrt(1 + 8*M))/2.0;"
   ]
  },
  {
   "cell_type": "code",
   "execution_count": null,
   "metadata": {},
   "outputs": [],
   "source": [
    "STGa = {}\n",
    "VTGa = {}\n",
    "k = 6;\n",
    "sigmas = np.linspace(0,1,5);\n",
    "for sigma in sigmas:\n",
    "    VTG,fh = sad.memory_temporal_graph_creation(N,T,[k,k*sigma],act,mode='simplicial',alpha=1,returnhist=True);\n",
    "    VTGa[sigma] = sad.aggregate_graph(VTG,Tagg)\n",
    "    tot = []\n",
    "    for t in fh:\n",
    "        tot.extend(map(len,fh[t]))\n",
    "    krenorm = int(round(sad.invert_k(np.mean(map(lambda x: x*(x-1)/2, tot)))))\n",
    "    print sigma, krenorm\n",
    "    STG = sad.memory_temporal_graph_creation(N,T,krenorm,act,mode='simplicial',alpha=1)\n",
    "    STGa[sigma] = sad.aggregate_graph(STG,Tagg)"
   ]
  },
  {
   "cell_type": "code",
   "execution_count": null,
   "metadata": {},
   "outputs": [],
   "source": [
    "pl = 4 \n",
    "for sigma in sigmas:\n",
    "    fig = plt.figure(figsize=(16,4))\n",
    "    plt.subplot(1,pl,1)\n",
    "    aa, bb = np.histogram(STGa[sigma].degree().values(), 30)\n",
    "    plt.plot(bb[:-1],aa,'o-',label='STGa[sigma]')\n",
    "    aa, bb = np.histogram(VTGa[sigma].degree().values(), 30)\n",
    "    plt.plot(bb[:-1],aa,'o-',label='VTGa')\n",
    "    plt.legend(loc=0)\n",
    "#    plt.xscale('log')\n",
    "    plt.yscale('log') \n",
    "    plt.title('Degree')\n",
    "\n",
    "    plt.subplot(1,pl,2)\n",
    "    aa, bb = np.histogram(nx.get_edge_attributes(STGa[sigma],'weight').values(), 30)\n",
    "    plt.plot(bb[:-1],aa,'o-')\n",
    "    aa, bb = np.histogram(nx.get_edge_attributes(VTGa[sigma],'weight').values(), 30)\n",
    "    plt.plot(bb[:-1],aa,'o-')\n",
    "#    plt.xscale('log')\n",
    "    plt.yscale('log') \n",
    "    plt.title('Strength')\n",
    "\n",
    "    plt.subplot(1,pl,3)\n",
    "    aa, bb = np.histogram(nx.clustering(STGa[sigma]).values(), 30)\n",
    "    plt.plot(bb[:-1],aa,'o-')\n",
    "    aa, bb = np.histogram(nx.clustering(VTGa[sigma]).values(), 30)\n",
    "    plt.plot(bb[:-1],aa,'o-')\n",
    "    plt.xscale('log')\n",
    "    plt.yscale('log') \n",
    "    plt.title('Clustering')\n",
    "    plt.xlim(0,1)\n",
    "\n",
    "    plt.subplot(1,pl,4)\n",
    "    coreness, layerness = sad.onion_decomposition(STGa[sigma])\n",
    "    aa, bb = np.histogram(layerness.values(), range(50), normed=True)\n",
    "    plt.plot(bb[:-1],aa,'o-')\n",
    "    coreness, layerness = sad.onion_decomposition(VTGa[sigma])\n",
    "    aa, bb = np.histogram(layerness.values(), range(50), normed=True)\n",
    "    plt.plot(bb[:-1],aa,'o-')\n",
    "    plt.title('Layer number')\n",
    "\n",
    "    plt.tight_layout()"
   ]
  },
  {
   "cell_type": "code",
   "execution_count": null,
   "metadata": {},
   "outputs": [],
   "source": [
    "STGa[sigmas[-1]].number_of_edges(), VTGa[sigmas[-1]].number_of_edges()"
   ]
  },
  {
   "cell_type": "code",
   "execution_count": null,
   "metadata": {},
   "outputs": [],
   "source": [
    "x = nx.clustering(VTGa[sigmas[-1]]).values()\n",
    "y = nx.clustering(STGa).values()\n",
    "z = act.values()[:N]\n",
    "M = np.max([np.max(x), np.max(y)])\n",
    "\n",
    "fig = plt.figure(figsize=(12,8))\n",
    "plt.scatter(x,y,c=z,alpha=0.4)\n",
    "plt.colorbar()\n",
    "plt.plot(np.linspace(0,M,10),np.linspace(0,M,10),'--k')\n",
    "plt.ylabel('Clustering STG',fontsize=30)\n",
    "plt.xlabel('Clustering NTG', fontsize=30)\n"
   ]
  },
  {
   "cell_type": "code",
   "execution_count": null,
   "metadata": {},
   "outputs": [],
   "source": [
    "x, x0 = sad.onion_decomposition(VTGa[sigmas[-1]])\n",
    "y, y0 = sad.onion_decomposition(STGa[sigmas[-1]])\n",
    "z = act.values()[:N]\n",
    "M = np.max([np.max(x.values()), np.max(y.values())])\n",
    "\n",
    "fig = plt.figure(figsize=(12,8))\n",
    "plt.scatter(x0.values(),y0.values(),c=x.values(),s=3*np.array(y.values()),alpha=0.4)\n",
    "plt.colorbar()\n",
    "plt.plot(np.linspace(0,M,10),np.linspace(0,M,10),'--k')\n",
    "plt.ylabel('Layer STG',fontsize=30)\n",
    "plt.xlabel('Layer NTG', fontsize=30)\n"
   ]
  },
  {
   "cell_type": "markdown",
   "metadata": {},
   "source": [
    "- coreness network vs simplicial  (N>> now, act bassa, tempi lunghi, densita' bassa)\n",
    "- coreness APS vs activity driven vs SAD \n",
    "- complex contagion cascade (https://arxiv.org/pdf/1207.1206.pdf)\n",
    "- voter model (sims)\n",
    "- omologia APS (???) \n",
    "\n"
   ]
  }
 ],
 "metadata": {
  "kernelspec": {
   "display_name": "Python 2",
   "language": "python",
   "name": "python2"
  },
  "language_info": {
   "codemirror_mode": {
    "name": "ipython",
    "version": 2
   },
   "file_extension": ".py",
   "mimetype": "text/x-python",
   "name": "python",
   "nbconvert_exporter": "python",
   "pygments_lexer": "ipython2",
   "version": "2.7.14"
  },
  "nav_menu": {},
  "toc": {
   "navigate_menu": true,
   "number_sections": true,
   "sideBar": true,
   "threshold": 6,
   "toc_cell": false,
   "toc_section_display": "block",
   "toc_window_display": false
  }
 },
 "nbformat": 4,
 "nbformat_minor": 2
}
