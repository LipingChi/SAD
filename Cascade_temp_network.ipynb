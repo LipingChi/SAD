{
 "cells": [
  {
   "cell_type": "code",
   "execution_count": 12,
   "metadata": {
    "collapsed": true
   },
   "outputs": [],
   "source": [
    "import networkx as nx\n",
    "import random\n",
    "import numpy as np"
   ]
  },
  {
   "cell_type": "code",
   "execution_count": 13,
   "metadata": {
    "collapsed": false
   },
   "outputs": [],
   "source": [
    "def evol_memory(setnodes,g,passed_contacts,passed_contacts_inf,status):\n",
    "    \n",
    "    for i in setnodes:\n",
    "        if i in g.nodes():\n",
    "            nc = g.degree(i)        # number of contacts of node i at time t\n",
    "            nc1 = len([x for x in g.neighbors(i) if status[x]==1])  # number of contacts with nodes of status 1\n",
    "        else:\n",
    "            nc = 0\n",
    "            nc1 = 0\n",
    "        passed_contacts[i].pop(0)        # removing the oldest memory\n",
    "        passed_contacts_inf[i].pop(0)\n",
    "        passed_contacts[i].append(nc)      # adding the data of the current time\n",
    "        passed_contacts_inf[i].append(nc1)\n",
    "    return"
   ]
  },
  {
   "cell_type": "code",
   "execution_count": 14,
   "metadata": {
    "collapsed": true
   },
   "outputs": [],
   "source": [
    "def cascade(g,passed_contacts,passed_contacts_inf,status,set_inf,phi):\n",
    "\n",
    "    nodes_to_add = set()\n",
    "\n",
    "    for node in g.nodes():\n",
    "        if status[node] == 1:\n",
    "            continue\n",
    "        nc = sum(passed_contacts)\n",
    "        if sum(passed_contacts_inf) > phi*nc:\n",
    "            nodes_to_add.add(node)\n",
    "            \n",
    "    set_inf = set_inf.union(nodes_to_add)\n",
    "    for node in nodes_to_add:\n",
    "        status[node] = 1\n",
    "        \n",
    "    return"
   ]
  },
  {
   "cell_type": "code",
   "execution_count": 23,
   "metadata": {
    "collapsed": false
   },
   "outputs": [
    {
     "name": "stdout",
     "output_type": "stream",
     "text": [
      "0 10.0 10.0\n",
      "1 10.0 10.0\n",
      "2 10.0 10.0\n",
      "3 10.0 10.0\n",
      "4 10.0 10.0\n",
      "5 10.0 10.0\n",
      "6 10.0 10.0\n",
      "7 10.0 10.0\n",
      "8 10.0 10.0\n",
      "9 10.0 10.0\n",
      "10.0 10.0\n",
      "[10, 10] [10, 10]\n"
     ]
    }
   ],
   "source": [
    "# Temporal network parameters\n",
    "N = 1000\n",
    "setnodes = range(N)\n",
    "Tmax = 10\n",
    "nruns = 2\n",
    "\n",
    "# cascade parameters\n",
    "theta = 10   # memory length\n",
    "phi = 0.4  # threshold \n",
    "initialfraction = 0.01\n",
    "nseeds = initialfraction*N\n",
    "\n",
    "average_ninf_AD, average_ninf_SAD = {}, {}\n",
    "for t in range(Tmax):\n",
    "    average_ninf_AD[t] = 0\n",
    "    average_ninf_SAD[t] = 0\n",
    "    \n",
    "list_final_sizes_AD, list_final_sizes_SAD = [], [] \n",
    "\n",
    "# NOTE: possibility of duplicating for comparing process on AD vs SAD with given seed\n",
    "#  => passed_contacts_AD = {}, passed_contacts_AD_inf = {}  and passed_contacts_SAD = {}, passed_contacts_SAD_inf = {}\n",
    "\n",
    "\n",
    "for irun in range(nruns):\n",
    "\n",
    "    # initialization of seeds: it will be the same set of seeds for both AD and SAD cases\n",
    "    seeds = set()\n",
    "    while len(seeds) < nseeds:\n",
    "        seeds.add(random.choice(setnodes))\n",
    "        \n",
    "    for (networktype,average_ninf,list_final_sizes) in zip(['AD','SAD'],\n",
    "                                                          [average_ninf_AD, average_ninf_SAD],\n",
    "                                                          [list_final_sizes_AD, list_final_sizes_SAD]):\n",
    "        passed_contacts = {}\n",
    "        passed_contacts_inf = {}\n",
    "        status = {}\n",
    "        set_inf = set()\n",
    "        for i in setnodes:\n",
    "            passed_contacts[i] = [0]*theta\n",
    "            passed_contacts_inf[i] = [0]*theta\n",
    "            status[i] = 0\n",
    "\n",
    "        for seed in seeds:\n",
    "            status[seed] = 1\n",
    "            set_inf.add(seed)\n",
    "\n",
    "        t = 0\n",
    "        while t < Tmax:\n",
    "            # step of creation of instantaneous network\n",
    "            if networktype == 'AD':\n",
    "                g = nx.Graph()   # creation of AD graph\n",
    "            else:\n",
    "                g = nx.Graph()  # creation of SAD graph\n",
    "            evol_memory(setnodes,g,passed_contacts,passed_contacts_inf,status)\n",
    "            cascade(g,passed_contacts,passed_contacts_inf,status,set_inf,phi)\n",
    "          #  print t,len(set_inf)\n",
    "            average_ninf[t] += len(set_inf)\n",
    "            t += 1\n",
    "\n",
    "        list_final_sizes.append(len(set_inf))\n",
    "\n",
    "for t in range(Tmax):\n",
    "    print t,average_ninf_AD[t]/float(nruns),average_ninf_SAD[t]/float(nruns)\n",
    "print np.average(list_final_sizes_AD),np.average(list_final_sizes_SAD)\n",
    "print list_final_sizes_AD,list_final_sizes_SAD"
   ]
  },
  {
   "cell_type": "code",
   "execution_count": null,
   "metadata": {
    "collapsed": true
   },
   "outputs": [],
   "source": []
  },
  {
   "cell_type": "code",
   "execution_count": null,
   "metadata": {
    "collapsed": true
   },
   "outputs": [],
   "source": []
  },
  {
   "cell_type": "code",
   "execution_count": null,
   "metadata": {
    "collapsed": true
   },
   "outputs": [],
   "source": []
  }
 ],
 "metadata": {
  "anaconda-cloud": {},
  "kernelspec": {
   "display_name": "Python [conda root]",
   "language": "python",
   "name": "conda-root-py"
  },
  "language_info": {
   "codemirror_mode": {
    "name": "ipython",
    "version": 2
   },
   "file_extension": ".py",
   "mimetype": "text/x-python",
   "name": "python",
   "nbconvert_exporter": "python",
   "pygments_lexer": "ipython2",
   "version": "2.7.12"
  }
 },
 "nbformat": 4,
 "nbformat_minor": 1
}
