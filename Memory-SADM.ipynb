{
 "cells": [
  {
   "cell_type": "code",
   "execution_count": 1,
   "metadata": {},
   "outputs": [
    {
     "name": "stdout",
     "output_type": "stream",
     "text": [
      "Populating the interactive namespace from numpy and matplotlib\n"
     ]
    }
   ],
   "source": [
    "%pylab inline \n",
    "import numpy as np\n",
    "import pandas as pd\n",
    "import os, sys\n",
    "import random\n",
    "import networkx as nx\n",
    "import matplotlib.pyplot as plt"
   ]
  },
  {
   "cell_type": "code",
   "execution_count": 29,
   "metadata": {},
   "outputs": [],
   "source": [
    "class simplex_vertex:\n",
    "    '''\n",
    "    Vertex class for simplicial activity driven model\n",
    "    '''\n",
    "    import random\n",
    "    def __init__(self,vertex_id,activity):\n",
    "        self.act = activity;\n",
    "        self.name = vertex_id;\n",
    "        self.memory = [];\n",
    "    \n",
    "    def update_history(self,newcollab):\n",
    "        self.memory.append(newcollab);\n",
    "                \n",
    "    def repeat_collaboration(self):\n",
    "        s = random.choice(self.memory);\n",
    "        self.memory.append(s)\n",
    "        return s;\n",
    "\n",
    "    def new_collab(self,nodes,size):\n",
    "        el = random.sample(nodes,size);\n",
    "        el.append(self.name);\n",
    "        self.memory.append(el);\n",
    "        return el;\n",
    "\n",
    "def add_clique(e,tgraph):\n",
    "    g = nx.complete_graph(len(e));\n",
    "    rl = dict(zip(range(len(e)), e));\n",
    "    g = nx.relabel_nodes(g,rl)\n",
    "    tgraph.add_edges_from(g.edges());\n",
    "    return tgraph;\n",
    "        \n",
    "def memory_instant_graph(vertex_dict):\n",
    "    tgraph = nx.Graph()\n",
    "    tgraph.add_nodes_from(vertex_dict.keys());\n",
    "    new_history = []\n",
    "    for n in vertex_dict:\n",
    "        if np.random.rand()<=vertex_dict[n].act:\n",
    "            if np.random.rand() <= (len(vertex_dict[n].memory) / float(1+len(vertex_dict[n].memory))):\n",
    "                e = vertex_dict[n].repeat_collaboration();\n",
    "                tgraph = add_clique(e,tgraph);                \n",
    "            else:\n",
    "                nodes = vertex_dict.keys();\n",
    "                nodes.remove(n)\n",
    "                e = vertex_dict[n].new_collab(nodes,np.random.randint(10));\n",
    "            new_history.append(e);\n",
    "            tgraph = add_clique(e,tgraph);\n",
    "    return tgraph, new_history;\n",
    "\n",
    "def memoryless_instant_graph(vertex_dict,k):\n",
    "    tgraph = nx.Graph()\n",
    "    tgraph.add_nodes_from(vertex_dict.keys());\n",
    "    new_history = []\n",
    "    for n in vertex_dict:\n",
    "        if np.random.rand()<=vertex_dict[n].act:\n",
    "            nodes = vertex_dict.keys();\n",
    "            nodes.remove(n)\n",
    "            e = vertex_dict[n].new_collab(nodes,k);\n",
    "            new_history.append(e);\n",
    "            tgraph = add_clique(e,tgraph);\n",
    "    return tgraph, new_history;\n",
    "\n",
    "def epidemic_step(tgraph,vertex_state,llambda, mmu):\n",
    "    new_vertex_state = {}\n",
    "    for n in vertex_state:\n",
    "        \n",
    "        ## recovery of infected nodes\n",
    "        if vertex_state[n]=='i' and  np.random.rand()<mmu:\n",
    "            new_vertex_state[n] = 's';\n",
    "        else:\n",
    "            new_vertex_state[n] = 'i';\n",
    "\n",
    "        #infection of susceptible nodes \n",
    "        if vertex_state[n]=='s':\n",
    "            new_vertex_state[n] = 's';\n",
    "            for nn in tgraph.neighbors(n):\n",
    "                if vertex_state[nn]=='i' and np.random.rand()<llambda:\n",
    "                    new_vertex_state[n] = 'i';\n",
    "                    break;\n",
    "    return new_vertex_state;\n",
    "\n",
    "def full_epidemic_sim(N,T,llambda,mmu,k,act,seed=1,verbose=False):\n",
    "    vertex_dict = {}\n",
    "    vertex_state = {}\n",
    "    full_history = {}\n",
    "    infection_history = {}\n",
    "    for n in range(N):\n",
    "        vertex_dict[n] = simplex_vertex(n,act[n])\n",
    "        if n < seed:\n",
    "            vertex_state[n] = 'i';\n",
    "        else:\n",
    "            vertex_state[n] = 's';\n",
    "    \n",
    "    for t in range(T):\n",
    "        if verbose == True and T%100==0:\n",
    "            print T;\n",
    "        tg, fh = memoryless_instant_graph(vertex_dict,k);\n",
    "        full_history[t] = fh;\n",
    "        vertex_state = epidemic_step(tg, vertex_state,llambda,mmu);\n",
    "        infection_history[t] = vertex_state;\n",
    "    return infection_history, full_history;\n",
    "\n",
    "def threshold_ratio(k, a1,a2):\n",
    "    return 2.0 / (k*(k-1) * a1 + (k-1)*np.sqrt(k*k*a1*a1 + 4*(a2-a1*a1)));\n",
    "\n",
    "\n",
    "\n",
    "def temporal_graph_creation(N,T,k,act,seed=1,verbose=False):\n",
    "    tgraph = {}\n",
    "    vertex_dict = {}\n",
    "    full_history = {}\n",
    "    for n in range(N):\n",
    "        vertex_dict[n] = simplex_vertex(n,act[n])\n",
    "        if n < seed:\n",
    "            vertex_state[n] = 'i';\n",
    "        else:\n",
    "            vertex_state[n] = 's';\n",
    "    for t in range(T):\n",
    "        if verbose == True and T%100==0:\n",
    "            print T;\n",
    "        tg, fh = memoryless_instant_graph(vertex_dict,k);\n",
    "        tgraph[t] = tg\n",
    "    return tgraph;\n"
   ]
  },
  {
   "cell_type": "code",
   "execution_count": 10,
   "metadata": {},
   "outputs": [],
   "source": [
    "## test"
   ]
  },
  {
   "cell_type": "code",
   "execution_count": 11,
   "metadata": {},
   "outputs": [
    {
     "name": "stdout",
     "output_type": "stream",
     "text": [
      "0.109571491993 0.0150211137325\n"
     ]
    },
    {
     "data": {
      "image/png": "[encoded data removed]",
      "text/plain": [
       "<matplotlib.figure.Figure at 0x108654ed0>"
      ]
     },
     "metadata": {},
     "output_type": "display_data"
    }
   ],
   "source": [
    "# produce activities \n",
    "from scipy.stats import norm,pareto\n",
    "b = 2.1\n",
    "dist = pareto(b).rvs(100000)\n",
    "dist = np.random.choice(dist,100)\n",
    "act = dict(zip(range(100),dist/np.max(dist)))\n",
    "plt.hist(act.values())\n",
    "mu, v  = np.mean(act.values()), np.var(act.values())\n",
    "print mu, v"
   ]
  },
  {
   "cell_type": "code",
   "execution_count": 12,
   "metadata": {},
   "outputs": [
    {
     "name": "stdout",
     "output_type": "stream",
     "text": [
      "2 4.30789108859\n",
      "3 1.48084710025\n",
      "4 0.748961378726\n",
      "5 0.451828829193\n"
     ]
    },
    {
     "data": {
      "text/plain": [
       "[0.023213214527368152,\n",
       " 0.067528916377220513,\n",
       " 0.13351823317000466,\n",
       " 0.22132275219931713]"
      ]
     },
     "execution_count": 12,
     "metadata": {},
     "output_type": "execute_result"
    }
   ],
   "source": [
    "# predict thresholds\n",
    "ks = range(2,6)\n",
    "thrs = {}\n",
    "for k in ks:\n",
    "    thrs[k] = threshold_ratio(k,mu,v)\n",
    "    print k, thrs[k]\n",
    "\n",
    "max_lambda = 0.1;\n",
    "[max_lambda / thrs[k] for k in thrs]"
   ]
  },
  {
   "cell_type": "code",
   "execution_count": 26,
   "metadata": {},
   "outputs": [
    {
     "name": "stdout",
     "output_type": "stream",
     "text": [
      "lambda, mu 0.1 0.0232132145274\n",
      "Completed 2 3.97975802422\n",
      "lambda, mu 0.1 0.0675289163772\n",
      "Completed 3 5.80189108849\n",
      "lambda, mu 0.1 0.13351823317\n",
      "Completed 4 10.4714400768\n",
      "lambda, mu 0.1 0.221322752199\n",
      "Completed 5 12.5929570198\n"
     ]
    }
   ],
   "source": [
    "import time\n",
    "epi  = {}\n",
    "T  = 3000;\n",
    "N = 100;\n",
    "recovery_factor = 1.02\n",
    "for k in ks:\n",
    "    now = time.time()\n",
    "    print 'lambda, mu', max_lambda,max_lambda/thrs[k]\n",
    "    epi[k] = full_epidemic_sim(N,T,max_lambda,recovery_factor*max_lambda/thrs[k],k,act,seed=10)\n",
    "    print 'Completed', k, time.time() - now"
   ]
  },
  {
   "cell_type": "code",
   "execution_count": 27,
   "metadata": {
    "scrolled": false
   },
   "outputs": [
    {
     "data": {
      "text/plain": [
       "<matplotlib.legend.Legend at 0x108645a90>"
      ]
     },
     "execution_count": 27,
     "metadata": {},
     "output_type": "execute_result"
    },
    {
     "data": {
      "image/png": "[encoded data removed]",
      "text/plain": [
       "<matplotlib.figure.Figure at 0x108f5ee90>"
      ]
     },
     "metadata": {},
     "output_type": "display_data"
    }
   ],
   "source": [
    "for k in epi:\n",
    "    t = pd.DataFrame(epi[k][0]).replace(['s','i'],[0,1]);\n",
    "    t.sum().plot(label=k)\n",
    "plt.legend()"
   ]
  },
  {
   "cell_type": "code",
   "execution_count": 7,
   "metadata": {},
   "outputs": [],
   "source": [
    "N = 100;\n",
    "vertex_dict = {}\n",
    "vertex_state = {}\n",
    "seed = 1;\n",
    "for n in range(N):\n",
    "    vertex_dict[n] = simplex_vertex(n,np.random.rand())\n",
    "    if n < seed:\n",
    "        vertex_state[n] = 'i';\n",
    "    else:\n",
    "        vertex_state[n] = 's';"
   ]
  },
  {
   "cell_type": "code",
   "execution_count": 8,
   "metadata": {},
   "outputs": [],
   "source": [
    "full_history = {}\n",
    "T = 100;\n",
    "for t in range(T):\n",
    "    full_history[t] = []\n",
    "    for n in vertex_dict:\n",
    "        if np.random.rand()<=vertex_dict[n].act:\n",
    "            if np.random.rand() <= (len(vertex_dict[n].memory) / float(1+len(vertex_dict[n].memory))):\n",
    "                e = vertex_dict[n].repeat_collaboration();\n",
    "                full_history[t].append(e);\n",
    "            else:\n",
    "                nodes = vertex_dict.keys();\n",
    "                nodes.remove(n)\n",
    "                e = vertex_dict[n].new_collab(nodes,np.random.randint(10));\n",
    "                "
   ]
  },
  {
   "cell_type": "code",
   "execution_count": 9,
   "metadata": {
    "scrolled": false
   },
   "outputs": [
    {
     "data": {
      "text/plain": [
       "[[14, 39, 1],\n",
       " [14, 39, 1],\n",
       " [1],\n",
       " [1],\n",
       " [87, 56, 4, 74, 52, 58, 1],\n",
       " [14, 39, 1],\n",
       " [14, 39, 1],\n",
       " [1],\n",
       " [14, 39, 1],\n",
       " [1],\n",
       " [6, 1],\n",
       " [6, 1],\n",
       " [6, 1],\n",
       " [90, 10, 16, 7, 92, 40, 36, 67, 22, 1],\n",
       " [6, 1],\n",
       " [6, 1],\n",
       " [14, 39, 1],\n",
       " [6, 1],\n",
       " [1],\n",
       " [6, 1],\n",
       " [1],\n",
       " [6, 1],\n",
       " [1],\n",
       " [87, 56, 4, 74, 52, 58, 1],\n",
       " [6, 1],\n",
       " [14, 39, 1],\n",
       " [14, 39, 1],\n",
       " [6, 1],\n",
       " [6, 1],\n",
       " [87, 56, 4, 74, 52, 58, 1],\n",
       " [1],\n",
       " [1],\n",
       " [1],\n",
       " [6, 1],\n",
       " [1],\n",
       " [87, 56, 4, 74, 52, 58, 1],\n",
       " [1],\n",
       " [14, 39, 1],\n",
       " [1],\n",
       " [87, 56, 4, 74, 52, 58, 1],\n",
       " [87, 56, 4, 74, 52, 58, 1],\n",
       " [1],\n",
       " [6, 1],\n",
       " [27, 33, 92, 48, 1],\n",
       " [6, 1],\n",
       " [1],\n",
       " [14, 39, 1],\n",
       " [14, 39, 1],\n",
       " [87, 56, 4, 74, 52, 58, 1],\n",
       " [14, 39, 1],\n",
       " [6, 1],\n",
       " [6, 1],\n",
       " [6, 1],\n",
       " [14, 39, 1],\n",
       " [14, 39, 1],\n",
       " [1],\n",
       " [1],\n",
       " [87, 56, 4, 74, 52, 58, 1],\n",
       " [6, 1],\n",
       " [6, 1],\n",
       " [14, 39, 1],\n",
       " [1],\n",
       " [87, 56, 4, 74, 52, 58, 1],\n",
       " [6, 1],\n",
       " [14, 39, 1],\n",
       " [87, 56, 4, 74, 52, 58, 1],\n",
       " [6, 1],\n",
       " [90, 10, 16, 7, 92, 40, 36, 67, 22, 1],\n",
       " [6, 1],\n",
       " [14, 39, 1],\n",
       " [6, 1],\n",
       " [14, 39, 1],\n",
       " [1],\n",
       " [0, 40, 3, 16, 50, 76, 19, 53, 29, 1],\n",
       " [6, 1],\n",
       " [1],\n",
       " [1],\n",
       " [87, 56, 4, 74, 52, 58, 1],\n",
       " [6, 1],\n",
       " [6, 1],\n",
       " [6, 1],\n",
       " [6, 1],\n",
       " [6, 1],\n",
       " [6, 1],\n",
       " [1],\n",
       " [1],\n",
       " [87, 56, 4, 74, 52, 58, 1],\n",
       " [6, 1],\n",
       " [1],\n",
       " [1],\n",
       " [14, 39, 1],\n",
       " [15, 64, 86, 36, 76, 16, 37, 1],\n",
       " [6, 1],\n",
       " [87, 56, 4, 74, 52, 58, 1],\n",
       " [1],\n",
       " [0, 40, 3, 16, 50, 76, 19, 53, 29, 1],\n",
       " [90, 10, 16, 7, 92, 40, 36, 67, 22, 1],\n",
       " [6, 1]]"
      ]
     },
     "execution_count": 9,
     "metadata": {},
     "output_type": "execute_result"
    }
   ],
   "source": [
    "vertex_dict[1].memory"
   ]
  }
 ],
 "metadata": {
  "kernelspec": {
   "display_name": "Python 2",
   "language": "python",
   "name": "python2"
  },
  "language_info": {
   "codemirror_mode": {
    "name": "ipython",
    "version": 2
   },
   "file_extension": ".py",
   "mimetype": "text/x-python",
   "name": "python",
   "nbconvert_exporter": "python",
   "pygments_lexer": "ipython2",
   "version": "2.7.14"
  },
  "nav_menu": {},
  "toc": {
   "navigate_menu": true,
   "number_sections": true,
   "sideBar": false,
   "threshold": 6,
   "toc_cell": false,
   "toc_section_display": "block",
   "toc_window_display": false
  }
 },
 "nbformat": 4,
 "nbformat_minor": 2
}
