{
 "cells": [
  {
   "cell_type": "code",
   "execution_count": 2,
   "metadata": {},
   "outputs": [
    {
     "name": "stdout",
     "output_type": "stream",
     "text": [
      "Populating the interactive namespace from numpy and matplotlib\n"
     ]
    }
   ],
   "source": [
    "%pylab inline \n",
    "import numpy as np\n",
    "import os, sys\n",
    "import pandas as pd\n",
    "import matplotlib.pyplot as plt\n",
    "import networkx as nx \n",
    "sys.path.append('/Users/lordgrilo/Dropbox/')\n",
    "import Holes as ho"
   ]
  },
  {
   "cell_type": "code",
   "execution_count": 14,
   "metadata": {},
   "outputs": [
    {
     "name": "stdout",
     "output_type": "stream",
     "text": [
      "['NTGa-mem-100.edges', 'NTGa-mem-200.edges', 'NTGa-mem-300.edges', 'NTGa-mem-400.edges', 'NTGa-mem-499.edges', 'STGa-mem-100.edges', 'STGa-mem-200.edges', 'STGa-mem-300.edges', 'STGa-mem-400.edges', 'STGa-mem-499.edges']\n"
     ]
    }
   ],
   "source": [
    "datadir = '../data/phom-networks/graphs/'\n",
    "fs = os.listdir(datadir)\n",
    "print fs"
   ]
  },
  {
   "cell_type": "code",
   "execution_count": 15,
   "metadata": {},
   "outputs": [
    {
     "name": "stdout",
     "output_type": "stream",
     "text": [
      "NTGa-mem-100.edges\n",
      "NTGa-mem-100.edges read 0.108471155167\n",
      "Preliminary scan of edge weights to define filtration steps...\n",
      "Constructing filtration...\n",
      "Max filtration value: 4\n",
      "Clique dictionary created.\n",
      "filtered 0.780304193497\n",
      "dumped 0.91964006424\n",
      "starting phom calculation\n",
      "Calling: jython  /Users/lordgrilo/Dropbox/Holes/jython_utils/persistent_homology_calculation.py ../data/phom-networks/fils/fil-NTGa-mem-100.pck 2 ../data/phom-networks/results/ NTGa-mem-100_ /Users/lordgrilo/Dropbox/Holes/jython_utils/lib False\n"
     ]
    },
    {
     "name": "stderr",
     "output_type": "stream",
     "text": [
      "Child returned 0\n"
     ]
    },
    {
     "name": "stdout",
     "output_type": "stream",
     "text": [
      "homology completed 15.8846571445\n",
      "---------------------------------\n",
      "NTGa-mem-200.edges\n",
      "NTGa-mem-200.edges read 0.167650938034\n",
      "Preliminary scan of edge weights to define filtration steps...\n",
      "Constructing filtration...\n",
      "Max filtration value: 7\n",
      "Clique dictionary created.\n",
      "filtered 0.742477893829\n",
      "dumped 0.84211397171\n",
      "starting phom calculation\n",
      "Calling: jython  /Users/lordgrilo/Dropbox/Holes/jython_utils/persistent_homology_calculation.py ../data/phom-networks/fils/fil-NTGa-mem-200.pck 2 ../data/phom-networks/results/ NTGa-mem-200_ /Users/lordgrilo/Dropbox/Holes/jython_utils/lib False\n"
     ]
    },
    {
     "name": "stderr",
     "output_type": "stream",
     "text": [
      "Child returned 0\n"
     ]
    },
    {
     "name": "stdout",
     "output_type": "stream",
     "text": [
      "homology completed 20.6881048679\n",
      "---------------------------------\n",
      "NTGa-mem-300.edges\n",
      "NTGa-mem-300.edges read 0.229506015778\n",
      "Preliminary scan of edge weights to define filtration steps...\n",
      "Constructing filtration...\n",
      "Max filtration value: 10\n",
      "Clique dictionary created.\n",
      "filtered 1.20238113403\n",
      "dumped 1.28016996384\n",
      "starting phom calculation\n",
      "Calling: jython  /Users/lordgrilo/Dropbox/Holes/jython_utils/persistent_homology_calculation.py ../data/phom-networks/fils/fil-NTGa-mem-300.pck 2 ../data/phom-networks/results/ NTGa-mem-300_ /Users/lordgrilo/Dropbox/Holes/jython_utils/lib False\n"
     ]
    },
    {
     "name": "stderr",
     "output_type": "stream",
     "text": [
      "Child returned 0\n"
     ]
    },
    {
     "name": "stdout",
     "output_type": "stream",
     "text": [
      "homology completed 28.9271390438\n",
      "---------------------------------\n",
      "NTGa-mem-400.edges\n",
      "NTGa-mem-400.edges read 0.36691904068\n",
      "Preliminary scan of edge weights to define filtration steps...\n",
      "Constructing filtration...\n",
      "Max filtration value: 12\n",
      "Clique dictionary created.\n",
      "filtered 1.55569696426\n",
      "dumped 1.73058104515\n",
      "starting phom calculation\n",
      "Calling: jython  /Users/lordgrilo/Dropbox/Holes/jython_utils/persistent_homology_calculation.py ../data/phom-networks/fils/fil-NTGa-mem-400.pck 2 ../data/phom-networks/results/ NTGa-mem-400_ /Users/lordgrilo/Dropbox/Holes/jython_utils/lib False\n"
     ]
    },
    {
     "name": "stderr",
     "output_type": "stream",
     "text": [
      "Child returned 0\n"
     ]
    },
    {
     "name": "stdout",
     "output_type": "stream",
     "text": [
      "homology completed 33.0277988911\n",
      "---------------------------------\n",
      "NTGa-mem-499.edges\n",
      "NTGa-mem-499.edges read 0.335449934006\n",
      "Preliminary scan of edge weights to define filtration steps...\n",
      "Constructing filtration...\n",
      "Max filtration value: 15\n",
      "Clique dictionary created.\n",
      "filtered 1.96784305573\n",
      "dumped 2.18973302841\n",
      "starting phom calculation\n",
      "Calling: jython  /Users/lordgrilo/Dropbox/Holes/jython_utils/persistent_homology_calculation.py ../data/phom-networks/fils/fil-NTGa-mem-499.pck 2 ../data/phom-networks/results/ NTGa-mem-499_ /Users/lordgrilo/Dropbox/Holes/jython_utils/lib False\n"
     ]
    },
    {
     "name": "stderr",
     "output_type": "stream",
     "text": [
      "Child returned 0\n"
     ]
    },
    {
     "name": "stdout",
     "output_type": "stream",
     "text": [
      "homology completed 38.9681460857\n",
      "---------------------------------\n",
      "STGa-mem-100.edges\n",
      "STGa-mem-100.edges read 0.109430074692\n",
      "Preliminary scan of edge weights to define filtration steps...\n",
      "Constructing filtration...\n",
      "Max filtration value: 5\n",
      "Clique dictionary created.\n",
      "filtered 0.429365158081\n",
      "dumped 0.489591121674\n",
      "starting phom calculation\n",
      "Calling: jython  /Users/lordgrilo/Dropbox/Holes/jython_utils/persistent_homology_calculation.py ../data/phom-networks/fils/fil-STGa-mem-100.pck 2 ../data/phom-networks/results/ STGa-mem-100_ /Users/lordgrilo/Dropbox/Holes/jython_utils/lib False\n"
     ]
    },
    {
     "name": "stderr",
     "output_type": "stream",
     "text": [
      "Child returned 0\n"
     ]
    },
    {
     "name": "stdout",
     "output_type": "stream",
     "text": [
      "homology completed 19.8947181702\n",
      "---------------------------------\n",
      "STGa-mem-200.edges\n",
      "STGa-mem-200.edges read 0.181452035904\n",
      "Preliminary scan of edge weights to define filtration steps...\n",
      "Constructing filtration...\n",
      "Max filtration value: 8\n",
      "Clique dictionary created.\n",
      "filtered 0.906085968018\n",
      "dumped 1.07331204414\n",
      "starting phom calculation\n",
      "Calling: jython  /Users/lordgrilo/Dropbox/Holes/jython_utils/persistent_homology_calculation.py ../data/phom-networks/fils/fil-STGa-mem-200.pck 2 ../data/phom-networks/results/ STGa-mem-200_ /Users/lordgrilo/Dropbox/Holes/jython_utils/lib False\n"
     ]
    },
    {
     "name": "stderr",
     "output_type": "stream",
     "text": [
      "Child returned 0\n"
     ]
    },
    {
     "name": "stdout",
     "output_type": "stream",
     "text": [
      "homology completed 32.2304439545\n",
      "---------------------------------\n",
      "STGa-mem-300.edges\n",
      "STGa-mem-300.edges read 0.240420103073\n",
      "Preliminary scan of edge weights to define filtration steps...\n",
      "Constructing filtration...\n",
      "Max filtration value: 10\n",
      "Clique dictionary created.\n",
      "filtered 1.27469301224\n",
      "dumped 1.51656913757\n",
      "starting phom calculation\n",
      "Calling: jython  /Users/lordgrilo/Dropbox/Holes/jython_utils/persistent_homology_calculation.py ../data/phom-networks/fils/fil-STGa-mem-300.pck 2 ../data/phom-networks/results/ STGa-mem-300_ /Users/lordgrilo/Dropbox/Holes/jython_utils/lib False\n"
     ]
    },
    {
     "name": "stderr",
     "output_type": "stream",
     "text": [
      "Child returned 0\n"
     ]
    },
    {
     "name": "stdout",
     "output_type": "stream",
     "text": [
      "homology completed 41.2365541458\n",
      "---------------------------------\n",
      "STGa-mem-400.edges\n",
      "STGa-mem-400.edges read 0.287621974945\n",
      "Preliminary scan of edge weights to define filtration steps...\n",
      "Constructing filtration...\n",
      "Max filtration value: 13\n",
      "Clique dictionary created.\n",
      "filtered 1.77126789093\n",
      "dumped 1.94516992569\n",
      "starting phom calculation\n",
      "Calling: jython  /Users/lordgrilo/Dropbox/Holes/jython_utils/persistent_homology_calculation.py ../data/phom-networks/fils/fil-STGa-mem-400.pck 2 ../data/phom-networks/results/ STGa-mem-400_ /Users/lordgrilo/Dropbox/Holes/jython_utils/lib False\n"
     ]
    },
    {
     "name": "stderr",
     "output_type": "stream",
     "text": [
      "Child returned 0\n"
     ]
    },
    {
     "name": "stdout",
     "output_type": "stream",
     "text": [
      "homology completed 49.9861688614\n",
      "---------------------------------\n",
      "STGa-mem-499.edges\n",
      "STGa-mem-499.edges read 0.340965032578\n",
      "Preliminary scan of edge weights to define filtration steps...\n",
      "Constructing filtration...\n",
      "Max filtration value: 14\n",
      "Clique dictionary created.\n",
      "filtered 2.27678394318\n",
      "dumped 2.56883502007\n",
      "starting phom calculation\n",
      "Calling: jython  /Users/lordgrilo/Dropbox/Holes/jython_utils/persistent_homology_calculation.py ../data/phom-networks/fils/fil-STGa-mem-499.pck 2 ../data/phom-networks/results/ STGa-mem-499_ /Users/lordgrilo/Dropbox/Holes/jython_utils/lib False\n",
      "homology completed 58.8065369129\n",
      "---------------------------------\n"
     ]
    },
    {
     "name": "stderr",
     "output_type": "stream",
     "text": [
      "Child returned 0\n"
     ]
    }
   ],
   "source": [
    "import time\n",
    "import cPickle as pk\n",
    "\n",
    "\n",
    "for f in fs:\n",
    "    print f\n",
    "    now = time.time()\n",
    "    g = nx.read_weighted_edgelist(datadir+f)\n",
    "    print f, 'read', time.time() - now\n",
    "    fil = ho.standard_weight_clique_rank_filtration(g)\n",
    "    print 'filtered', time.time() - now;\n",
    "    filname = '../data/phom-networks/fils/fil-'+f[:-6]+'.pck'\n",
    "    pk.dump(fil, open(filname,'w'))\n",
    "    print 'dumped', time.time() - now;\n",
    "    output_dir = '../data/phom-networks/results/'\n",
    "    if not os.path.exists(output_dir):\n",
    "        os.makedirs(output_dir)\n",
    "    print 'starting phom calculation'\n",
    "    ho.persistent_homology_calculation(filname,2,f[:-6],output_dir,m1=10000,m2=10000)\n",
    "    print 'homology completed', time.time() - now\n",
    "    print '---------------------------------'"
   ]
  },
  {
   "cell_type": "code",
   "execution_count": null,
   "metadata": {},
   "outputs": [],
   "source": []
  }
 ],
 "metadata": {
  "kernelspec": {
   "display_name": "Python 2",
   "language": "python",
   "name": "python2"
  },
  "language_info": {
   "codemirror_mode": {
    "name": "ipython",
    "version": 2
   },
   "file_extension": ".py",
   "mimetype": "text/x-python",
   "name": "python",
   "nbconvert_exporter": "python",
   "pygments_lexer": "ipython2",
   "version": "2.7.14"
  },
  "toc": {
   "nav_menu": {},
   "number_sections": true,
   "sideBar": true,
   "skip_h1_title": false,
   "toc_cell": false,
   "toc_position": {},
   "toc_section_display": "block",
   "toc_window_display": false
  }
 },
 "nbformat": 4,
 "nbformat_minor": 2
}
