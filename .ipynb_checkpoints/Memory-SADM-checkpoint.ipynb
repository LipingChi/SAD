{
 "cells": [
  {
   "cell_type": "code",
   "execution_count": 1,
   "metadata": {},
   "outputs": [
    {
     "name": "stdout",
     "output_type": "stream",
     "text": [
      "Populating the interactive namespace from numpy and matplotlib\n"
     ]
    }
   ],
   "source": [
    "%pylab inline \n",
    "import numpy as np\n",
    "import pandas as pd\n",
    "import os, sys\n",
    "import random\n",
    "import networkx as nx\n",
    "import matplotlib.pyplot as plt"
   ]
  },
  {
   "cell_type": "code",
   "execution_count": 2,
   "metadata": {},
   "outputs": [],
   "source": [
    "class simplex_vertex:\n",
    "    '''\n",
    "    Vertex class for simplicial activity driven model\n",
    "    '''\n",
    "    import random\n",
    "    def __init__(self,vertex_id,activity):\n",
    "        self.act = activity;\n",
    "        self.name = vertex_id;\n",
    "        self.memory = [];\n",
    "    \n",
    "    def update_history(self,newcollab):\n",
    "        self.memory.append(newcollab);\n",
    "                \n",
    "    def repeat_collaboration(self):\n",
    "        s = random.choice(self.memory);\n",
    "        self.memory.append(s)\n",
    "        return s;\n",
    "\n",
    "    def new_collab(self,nodes,size):\n",
    "        el = random.sample(nodes,size);\n",
    "        el.append(self.name);\n",
    "        self.memory.append(el);\n",
    "        return el;\n",
    "\n",
    "def add_clique(e,tgraph):\n",
    "    g = nx.complete_graph(len(e));\n",
    "    rl = dict(zip(range(len(e)), e));\n",
    "    g = nx.relabel_nodes(g,rl)\n",
    "    tgraph.add_edges_from(g.edges());\n",
    "    return tgraph;\n",
    "        \n",
    "def memory_instant_graph(vertex_dict):\n",
    "    tgraph = nx.Graph()\n",
    "    tgraph.add_nodes_from(vertex_dict.keys());\n",
    "    new_history = []\n",
    "    for n in vertex_dict:\n",
    "        if np.random.rand()<=vertex_dict[n].act:\n",
    "            if np.random.rand() <= (len(vertex_dict[n].memory) / float(1+len(vertex_dict[n].memory))):\n",
    "                e = vertex_dict[n].repeat_collaboration();\n",
    "                tgraph = add_clique(e,tgraph);                \n",
    "            else:\n",
    "                nodes = vertex_dict.keys();\n",
    "                nodes.remove(n)\n",
    "                e = vertex_dict[n].new_collab(nodes,np.random.randint(10));\n",
    "            new_history.append(e);\n",
    "            tgraph = add_clique(e,tgraph);\n",
    "    return tgraph, new_history;\n",
    "\n",
    "def memoryless_instant_graph(vertex_dict,k):\n",
    "    tgraph = nx.Graph()\n",
    "    tgraph.add_nodes_from(vertex_dict.keys());\n",
    "    new_history = []\n",
    "    for n in vertex_dict:\n",
    "        if np.random.rand()<=vertex_dict[n].act:\n",
    "            nodes = vertex_dict.keys();\n",
    "            nodes.remove(n)\n",
    "            e = vertex_dict[n].new_collab(nodes,k);\n",
    "            new_history.append(e);\n",
    "            tgraph = add_clique(e,tgraph);\n",
    "    return tgraph, new_history;\n",
    "\n",
    "def epidemic_step(tgraph,vertex_state,llambda, mmu):\n",
    "    new_vertex_state = {}\n",
    "    for n in vertex_state:\n",
    "        \n",
    "        ## recovery of infected nodes\n",
    "        if vertex_state[n]=='i' and  np.random.rand()<mmu:\n",
    "            new_vertex_state[n] = 's';\n",
    "        else:\n",
    "            new_vertex_state[n] = 'i';\n",
    "\n",
    "        #infection of susceptible nodes \n",
    "        if vertex_state[n]=='s':\n",
    "            new_vertex_state[n] = 's';\n",
    "            for nn in tgraph.neighbors(n):\n",
    "                if vertex_state[nn]=='i' and np.random.rand()<llambda:\n",
    "                    new_vertex_state[n] = 'i';\n",
    "                    break;\n",
    "    return new_vertex_state;\n",
    "\n",
    "def full_epidemic_sim(N,T,llambda,mmu,k,act,seed=1,verbose=False):\n",
    "    vertex_dict = {}\n",
    "    vertex_state = {}\n",
    "    seed = 1;\n",
    "    full_history = {}\n",
    "    infection_history = {}\n",
    "    for n in range(N):\n",
    "        vertex_dict[n] = simplex_vertex(n,act[n])\n",
    "        if n < seed:\n",
    "            vertex_state[n] = 'i';\n",
    "        else:\n",
    "            vertex_state[n] = 's';\n",
    "    \n",
    "    for t in range(T):\n",
    "        if verbose == True and T%100==0:\n",
    "            print T;\n",
    "        tg, fh = memoryless_instant_graph(vertex_dict,k);\n",
    "        full_history[t] = fh;\n",
    "        vertex_state = epidemic_step(tg, vertex_state,llambda,mmu);\n",
    "        infection_history[t] = vertex_state;\n",
    "    return infection_history, full_history;\n",
    "\n",
    "def threshold_ratio(k, a1,a2):\n",
    "    return 2.0 / (k*(k-1) * a1 + (k-1)*np.sqrt(k*k*a1*a1 + 4*(a2-a1*a1)));"
   ]
  },
  {
   "cell_type": "code",
   "execution_count": 3,
   "metadata": {},
   "outputs": [],
   "source": [
    "## test"
   ]
  },
  {
   "cell_type": "code",
   "execution_count": 6,
   "metadata": {},
   "outputs": [
    {
     "name": "stdout",
     "output_type": "stream",
     "text": [
      "0.194082289329 0.0155654101029\n"
     ]
    },
    {
     "data": {
      "image/png": "[encoded data removed]",
      "text/plain": [
       "<matplotlib.figure.Figure at 0x1083731d0>"
      ]
     },
     "metadata": {},
     "output_type": "display_data"
    }
   ],
   "source": [
    "# produce activities \n",
    "from scipy.stats import norm,pareto\n",
    "b = 2.1\n",
    "dist = pareto(b).rvs(100000)\n",
    "dist = np.random.choice(dist,100)\n",
    "act = dict(zip(range(100),dist/np.max(dist)))\n",
    "plt.hist(act.values())\n",
    "mu, v  = np.mean(act.values()), np.var(act.values())\n",
    "print mu, v"
   ]
  },
  {
   "cell_type": "code",
   "execution_count": 7,
   "metadata": {},
   "outputs": [
    {
     "name": "stdout",
     "output_type": "stream",
     "text": [
      "2 3.13633292295\n",
      "3 0.923490798343\n",
      "4 0.446390663072\n",
      "5 0.263970996391\n"
     ]
    },
    {
     "data": {
      "text/plain": [
       "[0.031884370204492189,\n",
       " 0.10828478224080669,\n",
       " 0.22401902251228398,\n",
       " 0.37882949781300679]"
      ]
     },
     "execution_count": 7,
     "metadata": {},
     "output_type": "execute_result"
    }
   ],
   "source": [
    "# predict thresholds\n",
    "ks = range(2,6)\n",
    "thrs = {}\n",
    "for k in ks:\n",
    "    thrs[k] = threshold_ratio(k,mu,v)\n",
    "    print k, thrs[k]\n",
    "\n",
    "max_lambda = 0.1;\n",
    "[max_lambda / thrs[k] for k in thrs]"
   ]
  },
  {
   "cell_type": "code",
   "execution_count": 8,
   "metadata": {},
   "outputs": [
    {
     "ename": "NameError",
     "evalue": "global name 't' is not defined",
     "output_type": "error",
     "traceback": [
      "\u001b[0;31m---------------------------------------------------------------------------\u001b[0m",
      "\u001b[0;31mNameError\u001b[0m                                 Traceback (most recent call last)",
      "\u001b[0;32m<ipython-input-8-7f2a2b69272d>\u001b[0m in \u001b[0;36m<module>\u001b[0;34m()\u001b[0m\n\u001b[1;32m      5\u001b[0m \u001b[0;32mfor\u001b[0m \u001b[0mk\u001b[0m \u001b[0;32min\u001b[0m \u001b[0mks\u001b[0m\u001b[0;34m:\u001b[0m\u001b[0;34m\u001b[0m\u001b[0m\n\u001b[1;32m      6\u001b[0m     \u001b[0mnow\u001b[0m \u001b[0;34m=\u001b[0m \u001b[0mtime\u001b[0m\u001b[0;34m.\u001b[0m\u001b[0mtime\u001b[0m\u001b[0;34m(\u001b[0m\u001b[0;34m)\u001b[0m\u001b[0;34m\u001b[0m\u001b[0m\n\u001b[0;32m----> 7\u001b[0;31m     \u001b[0mepi\u001b[0m\u001b[0;34m[\u001b[0m\u001b[0mk\u001b[0m\u001b[0;34m]\u001b[0m \u001b[0;34m=\u001b[0m \u001b[0mfull_epidemic_sim\u001b[0m\u001b[0;34m(\u001b[0m\u001b[0mN\u001b[0m\u001b[0;34m,\u001b[0m\u001b[0mT\u001b[0m\u001b[0;34m,\u001b[0m\u001b[0mmax_lambda\u001b[0m\u001b[0;34m,\u001b[0m\u001b[0mmax_lambda\u001b[0m\u001b[0;34m/\u001b[0m\u001b[0mthrs\u001b[0m\u001b[0;34m[\u001b[0m\u001b[0mk\u001b[0m\u001b[0;34m]\u001b[0m\u001b[0;34m,\u001b[0m\u001b[0mk\u001b[0m\u001b[0;34m,\u001b[0m\u001b[0mact\u001b[0m\u001b[0;34m)\u001b[0m\u001b[0;34m\u001b[0m\u001b[0m\n\u001b[0m\u001b[1;32m      8\u001b[0m     \u001b[0;32mprint\u001b[0m \u001b[0;34m'Completed'\u001b[0m\u001b[0;34m,\u001b[0m \u001b[0mk\u001b[0m\u001b[0;34m,\u001b[0m \u001b[0mtime\u001b[0m\u001b[0;34m.\u001b[0m\u001b[0mtime\u001b[0m\u001b[0;34m(\u001b[0m\u001b[0;34m)\u001b[0m \u001b[0;34m-\u001b[0m \u001b[0mnow\u001b[0m\u001b[0;34m\u001b[0m\u001b[0m\n",
      "\u001b[0;32m<ipython-input-2-ff1bbcacd52f>\u001b[0m in \u001b[0;36mfull_epidemic_sim\u001b[0;34m(N, T, llambda, mmu, k, act, seed, verbose)\u001b[0m\n\u001b[1;32m     96\u001b[0m             \u001b[0;32mprint\u001b[0m \u001b[0mT\u001b[0m\u001b[0;34m;\u001b[0m\u001b[0;34m\u001b[0m\u001b[0m\n\u001b[1;32m     97\u001b[0m         \u001b[0mtg\u001b[0m\u001b[0;34m,\u001b[0m \u001b[0mfh\u001b[0m \u001b[0;34m=\u001b[0m \u001b[0mmemoryless_instant_graph\u001b[0m\u001b[0;34m(\u001b[0m\u001b[0mvertex_dict\u001b[0m\u001b[0;34m,\u001b[0m\u001b[0mk\u001b[0m\u001b[0;34m)\u001b[0m\u001b[0;34m;\u001b[0m\u001b[0;34m\u001b[0m\u001b[0m\n\u001b[0;32m---> 98\u001b[0;31m         \u001b[0mfull_history\u001b[0m\u001b[0;34m[\u001b[0m\u001b[0mt\u001b[0m\u001b[0;34m]\u001b[0m \u001b[0;34m=\u001b[0m \u001b[0mfh\u001b[0m\u001b[0;34m;\u001b[0m\u001b[0;34m\u001b[0m\u001b[0m\n\u001b[0m\u001b[1;32m     99\u001b[0m         \u001b[0mvertex_state\u001b[0m \u001b[0;34m=\u001b[0m \u001b[0mepidemic_step\u001b[0m\u001b[0;34m(\u001b[0m\u001b[0mtg\u001b[0m\u001b[0;34m,\u001b[0m \u001b[0mvertex_state\u001b[0m\u001b[0;34m,\u001b[0m\u001b[0mllambda\u001b[0m\u001b[0;34m,\u001b[0m\u001b[0mmmu\u001b[0m\u001b[0;34m)\u001b[0m\u001b[0;34m;\u001b[0m\u001b[0;34m\u001b[0m\u001b[0m\n\u001b[1;32m    100\u001b[0m         \u001b[0minfection_history\u001b[0m\u001b[0;34m[\u001b[0m\u001b[0mt\u001b[0m\u001b[0;34m]\u001b[0m \u001b[0;34m=\u001b[0m \u001b[0mvertex_state\u001b[0m\u001b[0;34m;\u001b[0m\u001b[0;34m\u001b[0m\u001b[0m\n",
      "\u001b[0;31mNameError\u001b[0m: global name 't' is not defined"
     ]
    }
   ],
   "source": [
    "import time\n",
    "epi  = {}\n",
    "T  = 1000;\n",
    "N = 100;\n",
    "for k in ks:\n",
    "    now = time.time()\n",
    "    epi[k] = full_epidemic_sim(N,T,max_lambda,max_lambda/thrs[k],k,act)\n",
    "    print 'Completed', k, time.time() - now"
   ]
  },
  {
   "cell_type": "code",
   "execution_count": 57,
   "metadata": {
    "scrolled": false
   },
   "outputs": [
    {
     "name": "stdout",
     "output_type": "stream",
     "text": [
      "(100, 1)\n",
      "(100, 1)\n",
      "(100, 1)\n",
      "(100, 1)\n"
     ]
    }
   ],
   "source": [
    "for k in epi:\n",
    "    t = epi[k][0].replace(['s','i'],[0,1]);\n",
    "    print t.shape"
   ]
  },
  {
   "cell_type": "code",
   "execution_count": 7,
   "metadata": {},
   "outputs": [],
   "source": [
    "N = 100;\n",
    "vertex_dict = {}\n",
    "vertex_state = {}\n",
    "seed = 1;\n",
    "for n in range(N):\n",
    "    vertex_dict[n] = simplex_vertex(n,np.random.rand())\n",
    "    if n < seed:\n",
    "        vertex_state[n] = 'i';\n",
    "    else:\n",
    "        vertex_state[n] = 's';"
   ]
  },
  {
   "cell_type": "code",
   "execution_count": 8,
   "metadata": {},
   "outputs": [],
   "source": [
    "full_history = {}\n",
    "T = 100;\n",
    "for t in range(T):\n",
    "    full_history[t] = []\n",
    "    for n in vertex_dict:\n",
    "        if np.random.rand()<=vertex_dict[n].act:\n",
    "            if np.random.rand() <= (len(vertex_dict[n].memory) / float(1+len(vertex_dict[n].memory))):\n",
    "                e = vertex_dict[n].repeat_collaboration();\n",
    "                full_history[t].append(e);\n",
    "            else:\n",
    "                nodes = vertex_dict.keys();\n",
    "                nodes.remove(n)\n",
    "                e = vertex_dict[n].new_collab(nodes,np.random.randint(10));\n",
    "                "
   ]
  },
  {
   "cell_type": "code",
   "execution_count": 9,
   "metadata": {
    "scrolled": false
   },
   "outputs": [
    {
     "data": {
      "text/plain": [
       "[[14, 39, 1],\n",
       " [14, 39, 1],\n",
       " [1],\n",
       " [1],\n",
       " [87, 56, 4, 74, 52, 58, 1],\n",
       " [14, 39, 1],\n",
       " [14, 39, 1],\n",
       " [1],\n",
       " [14, 39, 1],\n",
       " [1],\n",
       " [6, 1],\n",
       " [6, 1],\n",
       " [6, 1],\n",
       " [90, 10, 16, 7, 92, 40, 36, 67, 22, 1],\n",
       " [6, 1],\n",
       " [6, 1],\n",
       " [14, 39, 1],\n",
       " [6, 1],\n",
       " [1],\n",
       " [6, 1],\n",
       " [1],\n",
       " [6, 1],\n",
       " [1],\n",
       " [87, 56, 4, 74, 52, 58, 1],\n",
       " [6, 1],\n",
       " [14, 39, 1],\n",
       " [14, 39, 1],\n",
       " [6, 1],\n",
       " [6, 1],\n",
       " [87, 56, 4, 74, 52, 58, 1],\n",
       " [1],\n",
       " [1],\n",
       " [1],\n",
       " [6, 1],\n",
       " [1],\n",
       " [87, 56, 4, 74, 52, 58, 1],\n",
       " [1],\n",
       " [14, 39, 1],\n",
       " [1],\n",
       " [87, 56, 4, 74, 52, 58, 1],\n",
       " [87, 56, 4, 74, 52, 58, 1],\n",
       " [1],\n",
       " [6, 1],\n",
       " [27, 33, 92, 48, 1],\n",
       " [6, 1],\n",
       " [1],\n",
       " [14, 39, 1],\n",
       " [14, 39, 1],\n",
       " [87, 56, 4, 74, 52, 58, 1],\n",
       " [14, 39, 1],\n",
       " [6, 1],\n",
       " [6, 1],\n",
       " [6, 1],\n",
       " [14, 39, 1],\n",
       " [14, 39, 1],\n",
       " [1],\n",
       " [1],\n",
       " [87, 56, 4, 74, 52, 58, 1],\n",
       " [6, 1],\n",
       " [6, 1],\n",
       " [14, 39, 1],\n",
       " [1],\n",
       " [87, 56, 4, 74, 52, 58, 1],\n",
       " [6, 1],\n",
       " [14, 39, 1],\n",
       " [87, 56, 4, 74, 52, 58, 1],\n",
       " [6, 1],\n",
       " [90, 10, 16, 7, 92, 40, 36, 67, 22, 1],\n",
       " [6, 1],\n",
       " [14, 39, 1],\n",
       " [6, 1],\n",
       " [14, 39, 1],\n",
       " [1],\n",
       " [0, 40, 3, 16, 50, 76, 19, 53, 29, 1],\n",
       " [6, 1],\n",
       " [1],\n",
       " [1],\n",
       " [87, 56, 4, 74, 52, 58, 1],\n",
       " [6, 1],\n",
       " [6, 1],\n",
       " [6, 1],\n",
       " [6, 1],\n",
       " [6, 1],\n",
       " [6, 1],\n",
       " [1],\n",
       " [1],\n",
       " [87, 56, 4, 74, 52, 58, 1],\n",
       " [6, 1],\n",
       " [1],\n",
       " [1],\n",
       " [14, 39, 1],\n",
       " [15, 64, 86, 36, 76, 16, 37, 1],\n",
       " [6, 1],\n",
       " [87, 56, 4, 74, 52, 58, 1],\n",
       " [1],\n",
       " [0, 40, 3, 16, 50, 76, 19, 53, 29, 1],\n",
       " [90, 10, 16, 7, 92, 40, 36, 67, 22, 1],\n",
       " [6, 1]]"
      ]
     },
     "execution_count": 9,
     "metadata": {},
     "output_type": "execute_result"
    }
   ],
   "source": [
    "vertex_dict[1].memory"
   ]
  }
 ],
 "metadata": {
  "kernelspec": {
   "display_name": "Python 2",
   "language": "python",
   "name": "python2"
  },
  "language_info": {
   "codemirror_mode": {
    "name": "ipython",
    "version": 2
   },
   "file_extension": ".py",
   "mimetype": "text/x-python",
   "name": "python",
   "nbconvert_exporter": "python",
   "pygments_lexer": "ipython2",
   "version": "2.7.14"
  },
  "nav_menu": {},
  "toc": {
   "navigate_menu": true,
   "number_sections": true,
   "sideBar": false,
   "threshold": 6,
   "toc_cell": false,
   "toc_section_display": "block",
   "toc_window_display": false
  }
 },
 "nbformat": 4,
 "nbformat_minor": 2
}
